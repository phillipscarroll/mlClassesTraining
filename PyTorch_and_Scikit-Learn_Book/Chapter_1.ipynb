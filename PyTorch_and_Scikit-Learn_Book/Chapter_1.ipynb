{
  "cells": [
    {
      "cell_type": "markdown",
      "metadata": {
        "id": "D3cgwZ-m9W0i"
      },
      "source": [
        "Moving to this PyTorch book, the flow of the otherbook included inferred things in the code examples making it very slow to run through the chapters. We will try this more targeted scikit-learn oriented book.\n",
        "\n",
        "This is a 2022 book so we need to be on the lookout for deprecated command warnings etc..."
      ]
    },
    {
      "cell_type": "markdown",
      "metadata": {
        "id": "-vb_hsMK9W0j"
      },
      "source": [
        "The goal of this book appears to be (Based on ToC):\n",
        "\n",
        "* Give you a base for understanding how computers learn data patterns\n",
        "* Overview of ML algorithms\n",
        "* Scikit-learn classifiers\n",
        "* Build good datasets\n",
        "* Compression Data\n",
        "* Best Practices: Model eval and hyperparameter tuning\n",
        "* Ensemble Learning\n",
        "* ML Sentiment Analysis\n",
        "* Working with unlabeled data\n",
        "* Implementing Multi-layer NN from scratch\n",
        "* Parallelizing NN training\n",
        "* PyTorch mechanics\n",
        "* Classification CNN's\n",
        "* Sequential Data using Recurrent NN\n",
        "* Transformer - NLP with Attention Mechanisms\n",
        "* Generative Adversarial Networks\n",
        "* Graph NN to capture dependencies\n",
        "* Reinforcement learning\n"
      ]
    },
    {
      "cell_type": "markdown",
      "metadata": {
        "id": "hqg6ESqi9W0j"
      },
      "source": [
        "Code repo from the book: https://github.com/rasbt/machine-learning-book"
      ]
    },
    {
      "cell_type": "markdown",
      "metadata": {
        "id": "PFbRxz0y9W0j"
      },
      "source": [
        "Test"
      ]
    },
    {
      "cell_type": "code",
      "execution_count": null,
      "metadata": {
        "id": "q8eGZxua9aDK"
      },
      "outputs": [],
      "source": []
    }
  ],
  "metadata": {
    "colab": {
      "provenance": []
    },
    "language_info": {
      "name": "python"
    }
  },
  "nbformat": 4,
  "nbformat_minor": 0
}
