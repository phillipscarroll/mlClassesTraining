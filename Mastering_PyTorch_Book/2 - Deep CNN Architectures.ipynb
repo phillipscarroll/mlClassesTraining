{
 "cells": [
  {
   "cell_type": "markdown",
   "metadata": {},
   "source": [
    "# Chapter 2 Deep CNN Architectures\n",
    "\n",
    "**CNN** - Convolutional Neural Network\n",
    "\n",
    "**Convolution** - A layer that scans a small subset of the image left to right, top to bottom to detect patterns\n",
    "\n",
    "* CNN are good for\n",
    "  * Image classification\n",
    "  * Object detection\n",
    "  * Object segmentation\n",
    "  * Video Processing\n",
    "  * Natural language processing\n",
    "  * Speech recognition\n",
    "\n",
    "* CNN Attributes\n",
    "  * Weight Sharing\n",
    "    * **Parameter Efficiency**, different features can be extracted with the same set of weights\n",
    "    * **Features** are the high-level representations of input data the model generates with its parameters\n",
    "  * Automatic Feature Extraction\n",
    "    * Multi stage feature extraction means CNN automatically learn features\n",
    "  * Hierarchical Learning\n",
    "    * CNN's are good at learning low, mid and high-level features\n",
    "      * low - basic blocks like edges and lines\n",
    "      * mid - shapes and objects\n",
    "      * high-level - actions and scenes\n",
    "  * Spatial and Temporal\n",
    "\n",
    "Page 38"
   ]
  },
  {
   "cell_type": "markdown",
   "metadata": {},
   "source": []
  }
 ],
 "metadata": {
  "language_info": {
   "name": "python"
  }
 },
 "nbformat": 4,
 "nbformat_minor": 2
}
