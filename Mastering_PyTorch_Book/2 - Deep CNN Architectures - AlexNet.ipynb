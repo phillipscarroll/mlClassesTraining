{
 "cells": [
  {
   "cell_type": "markdown",
   "metadata": {},
   "source": [
    "# Fine-tuning the AlexNet Model\n",
    "\n",
    "Build an AlexNet Model\n",
    "\n",
    "Then explore the PyTorch pretrained CNN model repo"
   ]
  },
  {
   "cell_type": "markdown",
   "metadata": {},
   "source": []
  }
 ],
 "metadata": {
  "language_info": {
   "name": "python"
  }
 },
 "nbformat": 4,
 "nbformat_minor": 2
}
