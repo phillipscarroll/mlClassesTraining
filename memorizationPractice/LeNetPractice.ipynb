{
 "cells": [
  {
   "cell_type": "markdown",
   "metadata": {},
   "source": [
    "### We need to run through this as many times until all of it is easily sketched out and working from memory\n",
    "\n",
    "1. Imports\n",
    "2. Set Device\n",
    "3. Model Definition\n",
    "4. Dataset Preparation\n",
    "5. Instantiate Model and Move to Device\n",
    "6. Define Loss and Optimizer\n",
    "7. Training and Testing Functions\n",
    "8. Training Loop\n",
    "9. Save and Load the Model\n",
    "10. Make Predictions\n",
    "\n",
    "Remove any code like punting to cuda/rocm or xpu\n",
    "Remove any multi gpu code\n",
    "We can come back after the fact and modify once we get the skeleton down 100%\n",
    "\n",
    "Some code we wont want or need to memorize like specific file paths or URLs for downloading"
   ]
  },
  {
   "cell_type": "markdown",
   "metadata": {},
   "source": [
    "### Imports\n",
    "\n",
    "`import os`\n",
    "\n",
    "`1os.environ[\"CUBLAS_WORKSPACE_CONFIG\"] = \":4096:8\"1`\n",
    "\n",
    "`import numpy as np`\n",
    "\n",
    "`import matplotlib.pyplot as plt`\n",
    "\n",
    "`import torch`\n",
    "\n",
    "`import torchvision`\n",
    "\n",
    "`import torch.nn as nn`\n",
    "\n",
    "`import torch.nn.functional as F`\n",
    "\n",
    "`import torchvision.transforms as transforms`\n",
    "\n",
    "`from PIL import Image`\n",
    "\n",
    "`import time`\n",
    "\n",
    "`torch.use_deterministic_algorithms(True) # for reproducibility by way of deterministic algorithms`\n",
    "\n",
    "`from torch.cuda.amp import autocast, GradScaler # for mixed precision training`"
   ]
  },
  {
   "cell_type": "markdown",
   "metadata": {},
   "source": []
  }
 ],
 "metadata": {
  "language_info": {
   "name": "python"
  }
 },
 "nbformat": 4,
 "nbformat_minor": 2
}
